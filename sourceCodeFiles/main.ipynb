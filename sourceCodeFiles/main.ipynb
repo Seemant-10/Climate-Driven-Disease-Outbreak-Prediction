{
 "cells": [
  {
   "cell_type": "markdown",
   "id": "aefd8c1a",
   "metadata": {},
   "source": [
    "# Climate-Driven Disease Outbreak Prediction "
   ]
  },
  {
   "cell_type": "markdown",
   "id": "aa819496",
   "metadata": {},
   "source": [
    "## Importing Libraries"
   ]
  },
  {
   "cell_type": "code",
   "execution_count": 1,
   "id": "d08aa4e4",
   "metadata": {},
   "outputs": [],
   "source": [
    "import pandas as pd\n",
    "import matplotlib.pyplot as plt"
   ]
  },
  {
   "cell_type": "markdown",
   "id": "f54387d9",
   "metadata": {},
   "source": [
    "## Load The Dataset"
   ]
  },
  {
   "cell_type": "code",
   "execution_count": 3,
   "id": "a2d5979f",
   "metadata": {},
   "outputs": [],
   "source": [
    "df = pd.read_csv(\"../Data/processed/India_Climate_Disease_Merged_Monthly.csv\")"
   ]
  },
  {
   "cell_type": "markdown",
   "id": "eaf6a80f",
   "metadata": {},
   "source": [
    "## Explore The Dataset"
   ]
  },
  {
   "cell_type": "code",
   "execution_count": 4,
   "id": "0c474c6c",
   "metadata": {},
   "outputs": [
    {
     "name": "stdout",
     "output_type": "stream",
     "text": [
      "Preview of dataset:\n"
     ]
    },
    {
     "data": {
      "text/html": [
       "<div>\n",
       "<style scoped>\n",
       "    .dataframe tbody tr th:only-of-type {\n",
       "        vertical-align: middle;\n",
       "    }\n",
       "\n",
       "    .dataframe tbody tr th {\n",
       "        vertical-align: top;\n",
       "    }\n",
       "\n",
       "    .dataframe thead th {\n",
       "        text-align: right;\n",
       "    }\n",
       "</style>\n",
       "<table border=\"1\" class=\"dataframe\">\n",
       "  <thead>\n",
       "    <tr style=\"text-align: right;\">\n",
       "      <th></th>\n",
       "      <th>Year</th>\n",
       "      <th>Month</th>\n",
       "      <th>TempAnomaly</th>\n",
       "      <th>DengueCases</th>\n",
       "      <th>MalariaIncidence</th>\n",
       "      <th>Humidity</th>\n",
       "      <th>Precipitation</th>\n",
       "    </tr>\n",
       "  </thead>\n",
       "  <tbody>\n",
       "    <tr>\n",
       "      <th>0</th>\n",
       "      <td>2000</td>\n",
       "      <td>1</td>\n",
       "      <td>0.832</td>\n",
       "      <td>650.0</td>\n",
       "      <td>19.956696</td>\n",
       "      <td>56.250000</td>\n",
       "      <td>10.38</td>\n",
       "    </tr>\n",
       "    <tr>\n",
       "      <th>1</th>\n",
       "      <td>2000</td>\n",
       "      <td>2</td>\n",
       "      <td>-0.670</td>\n",
       "      <td>650.0</td>\n",
       "      <td>19.956696</td>\n",
       "      <td>53.006667</td>\n",
       "      <td>17.44</td>\n",
       "    </tr>\n",
       "    <tr>\n",
       "      <th>2</th>\n",
       "      <td>2000</td>\n",
       "      <td>3</td>\n",
       "      <td>-0.412</td>\n",
       "      <td>650.0</td>\n",
       "      <td>19.956696</td>\n",
       "      <td>49.763333</td>\n",
       "      <td>12.11</td>\n",
       "    </tr>\n",
       "    <tr>\n",
       "      <th>3</th>\n",
       "      <td>2000</td>\n",
       "      <td>4</td>\n",
       "      <td>1.127</td>\n",
       "      <td>650.0</td>\n",
       "      <td>19.956696</td>\n",
       "      <td>46.520000</td>\n",
       "      <td>33.27</td>\n",
       "    </tr>\n",
       "    <tr>\n",
       "      <th>4</th>\n",
       "      <td>2000</td>\n",
       "      <td>5</td>\n",
       "      <td>0.040</td>\n",
       "      <td>650.0</td>\n",
       "      <td>19.956696</td>\n",
       "      <td>55.133333</td>\n",
       "      <td>72.38</td>\n",
       "    </tr>\n",
       "  </tbody>\n",
       "</table>\n",
       "</div>"
      ],
      "text/plain": [
       "   Year  Month  TempAnomaly  DengueCases  MalariaIncidence   Humidity  \\\n",
       "0  2000      1        0.832        650.0         19.956696  56.250000   \n",
       "1  2000      2       -0.670        650.0         19.956696  53.006667   \n",
       "2  2000      3       -0.412        650.0         19.956696  49.763333   \n",
       "3  2000      4        1.127        650.0         19.956696  46.520000   \n",
       "4  2000      5        0.040        650.0         19.956696  55.133333   \n",
       "\n",
       "   Precipitation  \n",
       "0          10.38  \n",
       "1          17.44  \n",
       "2          12.11  \n",
       "3          33.27  \n",
       "4          72.38  "
      ]
     },
     "metadata": {},
     "output_type": "display_data"
    }
   ],
   "source": [
    "# Check first few rows\n",
    "print(\"Preview of dataset:\")\n",
    "display(df.head())"
   ]
  },
  {
   "cell_type": "code",
   "execution_count": 5,
   "id": "b18683b9",
   "metadata": {},
   "outputs": [
    {
     "name": "stdout",
     "output_type": "stream",
     "text": [
      "\n",
      "Dataset Info:\n",
      "<class 'pandas.core.frame.DataFrame'>\n",
      "RangeIndex: 252 entries, 0 to 251\n",
      "Data columns (total 7 columns):\n",
      " #   Column            Non-Null Count  Dtype  \n",
      "---  ------            --------------  -----  \n",
      " 0   Year              252 non-null    int64  \n",
      " 1   Month             252 non-null    int64  \n",
      " 2   TempAnomaly       252 non-null    float64\n",
      " 3   DengueCases       252 non-null    float64\n",
      " 4   MalariaIncidence  252 non-null    float64\n",
      " 5   Humidity          247 non-null    float64\n",
      " 6   Precipitation     252 non-null    float64\n",
      "dtypes: float64(5), int64(2)\n",
      "memory usage: 13.9 KB\n",
      "None\n"
     ]
    }
   ],
   "source": [
    "# Info about columns and datatypes\n",
    "print(\"\\nDataset Info:\")\n",
    "print(df.info())\n"
   ]
  },
  {
   "cell_type": "code",
   "execution_count": 6,
   "id": "a6009c4e",
   "metadata": {},
   "outputs": [
    {
     "name": "stdout",
     "output_type": "stream",
     "text": [
      "\n",
      "Descriptive Statistics:\n"
     ]
    },
    {
     "data": {
      "text/html": [
       "<div>\n",
       "<style scoped>\n",
       "    .dataframe tbody tr th:only-of-type {\n",
       "        vertical-align: middle;\n",
       "    }\n",
       "\n",
       "    .dataframe tbody tr th {\n",
       "        vertical-align: top;\n",
       "    }\n",
       "\n",
       "    .dataframe thead th {\n",
       "        text-align: right;\n",
       "    }\n",
       "</style>\n",
       "<table border=\"1\" class=\"dataframe\">\n",
       "  <thead>\n",
       "    <tr style=\"text-align: right;\">\n",
       "      <th></th>\n",
       "      <th>Year</th>\n",
       "      <th>Month</th>\n",
       "      <th>TempAnomaly</th>\n",
       "      <th>DengueCases</th>\n",
       "      <th>MalariaIncidence</th>\n",
       "      <th>Humidity</th>\n",
       "      <th>Precipitation</th>\n",
       "    </tr>\n",
       "  </thead>\n",
       "  <tbody>\n",
       "    <tr>\n",
       "      <th>count</th>\n",
       "      <td>252.000000</td>\n",
       "      <td>252.000000</td>\n",
       "      <td>252.000000</td>\n",
       "      <td>252.000000</td>\n",
       "      <td>252.000000</td>\n",
       "      <td>247.000000</td>\n",
       "      <td>252.000000</td>\n",
       "    </tr>\n",
       "    <tr>\n",
       "      <th>mean</th>\n",
       "      <td>2010.000000</td>\n",
       "      <td>6.500000</td>\n",
       "      <td>0.607798</td>\n",
       "      <td>46170.285714</td>\n",
       "      <td>13.435015</td>\n",
       "      <td>61.548745</td>\n",
       "      <td>92.965833</td>\n",
       "    </tr>\n",
       "    <tr>\n",
       "      <th>std</th>\n",
       "      <td>6.067351</td>\n",
       "      <td>3.458922</td>\n",
       "      <td>0.576033</td>\n",
       "      <td>54312.172454</td>\n",
       "      <td>6.589167</td>\n",
       "      <td>8.385674</td>\n",
       "      <td>98.629710</td>\n",
       "    </tr>\n",
       "    <tr>\n",
       "      <th>min</th>\n",
       "      <td>2000.000000</td>\n",
       "      <td>1.000000</td>\n",
       "      <td>-1.146000</td>\n",
       "      <td>650.000000</td>\n",
       "      <td>2.653887</td>\n",
       "      <td>45.640000</td>\n",
       "      <td>3.340000</td>\n",
       "    </tr>\n",
       "    <tr>\n",
       "      <th>25%</th>\n",
       "      <td>2005.000000</td>\n",
       "      <td>3.750000</td>\n",
       "      <td>0.268500</td>\n",
       "      <td>11985.000000</td>\n",
       "      <td>6.700888</td>\n",
       "      <td>55.130000</td>\n",
       "      <td>15.815000</td>\n",
       "    </tr>\n",
       "    <tr>\n",
       "      <th>50%</th>\n",
       "      <td>2010.000000</td>\n",
       "      <td>6.500000</td>\n",
       "      <td>0.590500</td>\n",
       "      <td>18860.000000</td>\n",
       "      <td>17.323007</td>\n",
       "      <td>63.520000</td>\n",
       "      <td>46.270000</td>\n",
       "    </tr>\n",
       "    <tr>\n",
       "      <th>75%</th>\n",
       "      <td>2015.000000</td>\n",
       "      <td>9.250000</td>\n",
       "      <td>0.920250</td>\n",
       "      <td>55153.000000</td>\n",
       "      <td>18.464534</td>\n",
       "      <td>69.035000</td>\n",
       "      <td>161.835000</td>\n",
       "    </tr>\n",
       "    <tr>\n",
       "      <th>max</th>\n",
       "      <td>2020.000000</td>\n",
       "      <td>12.000000</td>\n",
       "      <td>2.540000</td>\n",
       "      <td>188401.000000</td>\n",
       "      <td>22.480590</td>\n",
       "      <td>75.190000</td>\n",
       "      <td>341.370000</td>\n",
       "    </tr>\n",
       "  </tbody>\n",
       "</table>\n",
       "</div>"
      ],
      "text/plain": [
       "              Year       Month  TempAnomaly    DengueCases  MalariaIncidence  \\\n",
       "count   252.000000  252.000000   252.000000     252.000000        252.000000   \n",
       "mean   2010.000000    6.500000     0.607798   46170.285714         13.435015   \n",
       "std       6.067351    3.458922     0.576033   54312.172454          6.589167   \n",
       "min    2000.000000    1.000000    -1.146000     650.000000          2.653887   \n",
       "25%    2005.000000    3.750000     0.268500   11985.000000          6.700888   \n",
       "50%    2010.000000    6.500000     0.590500   18860.000000         17.323007   \n",
       "75%    2015.000000    9.250000     0.920250   55153.000000         18.464534   \n",
       "max    2020.000000   12.000000     2.540000  188401.000000         22.480590   \n",
       "\n",
       "         Humidity  Precipitation  \n",
       "count  247.000000     252.000000  \n",
       "mean    61.548745      92.965833  \n",
       "std      8.385674      98.629710  \n",
       "min     45.640000       3.340000  \n",
       "25%     55.130000      15.815000  \n",
       "50%     63.520000      46.270000  \n",
       "75%     69.035000     161.835000  \n",
       "max     75.190000     341.370000  "
      ]
     },
     "metadata": {},
     "output_type": "display_data"
    }
   ],
   "source": [
    "# Descriptive statistics\n",
    "print(\"\\nDescriptive Statistics:\")\n",
    "display(df.describe())"
   ]
  },
  {
   "cell_type": "code",
   "execution_count": 7,
   "id": "81f99421",
   "metadata": {},
   "outputs": [
    {
     "name": "stdout",
     "output_type": "stream",
     "text": [
      "\n",
      "Missing Values per Column:\n",
      "Year                0\n",
      "Month               0\n",
      "TempAnomaly         0\n",
      "DengueCases         0\n",
      "MalariaIncidence    0\n",
      "Humidity            5\n",
      "Precipitation       0\n",
      "dtype: int64\n"
     ]
    }
   ],
   "source": [
    "# Missing values check\n",
    "print(\"\\nMissing Values per Column:\")\n",
    "print(df.isnull().sum())"
   ]
  }
 ],
 "metadata": {
  "kernelspec": {
   "display_name": "Python 3",
   "language": "python",
   "name": "python3"
  },
  "language_info": {
   "codemirror_mode": {
    "name": "ipython",
    "version": 3
   },
   "file_extension": ".py",
   "mimetype": "text/x-python",
   "name": "python",
   "nbconvert_exporter": "python",
   "pygments_lexer": "ipython3",
   "version": "3.13.0"
  }
 },
 "nbformat": 4,
 "nbformat_minor": 5
}
