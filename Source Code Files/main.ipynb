{
 "cells": [
  {
   "cell_type": "markdown",
   "id": "aefd8c1a",
   "metadata": {},
   "source": [
    "# Climate-Driven Disease Outbreak Prediction "
   ]
  },
  {
   "cell_type": "markdown",
   "id": "aa819496",
   "metadata": {},
   "source": [
    "## Importing Libraries"
   ]
  },
  {
   "cell_type": "code",
   "execution_count": 2,
   "id": "d08aa4e4",
   "metadata": {},
   "outputs": [],
   "source": [
    "import pandas as pd\n",
    "import matplotlib.pyplot as plt"
   ]
  },
  {
   "cell_type": "markdown",
   "id": "f54387d9",
   "metadata": {},
   "source": [
    "## Load The Dataset"
   ]
  },
  {
   "cell_type": "code",
   "execution_count": 12,
   "id": "a2d5979f",
   "metadata": {},
   "outputs": [],
   "source": [
    "df = pd.read_csv(\"../Data/processed/India_Climate_Disease_Merged.csv\")"
   ]
  },
  {
   "cell_type": "markdown",
   "id": "eaf6a80f",
   "metadata": {},
   "source": [
    "## Explore The Dataset"
   ]
  },
  {
   "cell_type": "code",
   "execution_count": null,
   "id": "0c474c6c",
   "metadata": {},
   "outputs": [
    {
     "name": "stdout",
     "output_type": "stream",
     "text": [
      "Preview of dataset:\n"
     ]
    },
    {
     "data": {
      "text/html": [
       "<div>\n",
       "<style scoped>\n",
       "    .dataframe tbody tr th:only-of-type {\n",
       "        vertical-align: middle;\n",
       "    }\n",
       "\n",
       "    .dataframe tbody tr th {\n",
       "        vertical-align: top;\n",
       "    }\n",
       "\n",
       "    .dataframe thead th {\n",
       "        text-align: right;\n",
       "    }\n",
       "</style>\n",
       "<table border=\"1\" class=\"dataframe\">\n",
       "  <thead>\n",
       "    <tr style=\"text-align: right;\">\n",
       "      <th></th>\n",
       "      <th>Year</th>\n",
       "      <th>DengueCases</th>\n",
       "      <th>MalariaIncidence</th>\n",
       "      <th>TempAnomaly</th>\n",
       "      <th>Humidity</th>\n",
       "      <th>Precipitation</th>\n",
       "    </tr>\n",
       "  </thead>\n",
       "  <tbody>\n",
       "    <tr>\n",
       "      <th>0</th>\n",
       "      <td>2000</td>\n",
       "      <td>650</td>\n",
       "      <td>19.956696</td>\n",
       "      <td>0.322667</td>\n",
       "      <td>60.98</td>\n",
       "      <td>1057.70</td>\n",
       "    </tr>\n",
       "    <tr>\n",
       "      <th>1</th>\n",
       "      <td>2001</td>\n",
       "      <td>3306</td>\n",
       "      <td>19.898292</td>\n",
       "      <td>0.430417</td>\n",
       "      <td>61.17</td>\n",
       "      <td>1037.87</td>\n",
       "    </tr>\n",
       "    <tr>\n",
       "      <th>2</th>\n",
       "      <td>2002</td>\n",
       "      <td>1926</td>\n",
       "      <td>18.464534</td>\n",
       "      <td>0.770250</td>\n",
       "      <td>61.20</td>\n",
       "      <td>929.22</td>\n",
       "    </tr>\n",
       "    <tr>\n",
       "      <th>3</th>\n",
       "      <td>2003</td>\n",
       "      <td>12754</td>\n",
       "      <td>19.357800</td>\n",
       "      <td>0.511250</td>\n",
       "      <td>60.89</td>\n",
       "      <td>1061.99</td>\n",
       "    </tr>\n",
       "    <tr>\n",
       "      <th>4</th>\n",
       "      <td>2004</td>\n",
       "      <td>4153</td>\n",
       "      <td>21.221604</td>\n",
       "      <td>0.516083</td>\n",
       "      <td>60.91</td>\n",
       "      <td>1038.25</td>\n",
       "    </tr>\n",
       "  </tbody>\n",
       "</table>\n",
       "</div>"
      ],
      "text/plain": [
       "   Year  DengueCases  MalariaIncidence  TempAnomaly  Humidity  Precipitation\n",
       "0  2000          650         19.956696     0.322667     60.98        1057.70\n",
       "1  2001         3306         19.898292     0.430417     61.17        1037.87\n",
       "2  2002         1926         18.464534     0.770250     61.20         929.22\n",
       "3  2003        12754         19.357800     0.511250     60.89        1061.99\n",
       "4  2004         4153         21.221604     0.516083     60.91        1038.25"
      ]
     },
     "metadata": {},
     "output_type": "display_data"
    }
   ],
   "source": [
    "# Check first few rows\n",
    "print(\"Preview of dataset:\")\n",
    "display(df.head())"
   ]
  },
  {
   "cell_type": "code",
   "execution_count": null,
   "id": "b18683b9",
   "metadata": {},
   "outputs": [
    {
     "name": "stdout",
     "output_type": "stream",
     "text": [
      "\n",
      "Dataset Info:\n",
      "<class 'pandas.core.frame.DataFrame'>\n",
      "RangeIndex: 24 entries, 0 to 23\n",
      "Data columns (total 6 columns):\n",
      " #   Column            Non-Null Count  Dtype  \n",
      "---  ------            --------------  -----  \n",
      " 0   Year              24 non-null     int64  \n",
      " 1   DengueCases       24 non-null     int64  \n",
      " 2   MalariaIncidence  24 non-null     float64\n",
      " 3   TempAnomaly       21 non-null     float64\n",
      " 4   Humidity          24 non-null     float64\n",
      " 5   Precipitation     24 non-null     float64\n",
      "dtypes: float64(4), int64(2)\n",
      "memory usage: 1.3 KB\n",
      "None\n"
     ]
    }
   ],
   "source": [
    "# Info about columns and datatypes\n",
    "print(\"\\nDataset Info:\")\n",
    "print(df.info())\n"
   ]
  },
  {
   "cell_type": "code",
   "execution_count": null,
   "id": "a6009c4e",
   "metadata": {},
   "outputs": [
    {
     "name": "stdout",
     "output_type": "stream",
     "text": [
      "\n",
      "Descriptive Statistics:\n"
     ]
    },
    {
     "data": {
      "text/html": [
       "<div>\n",
       "<style scoped>\n",
       "    .dataframe tbody tr th:only-of-type {\n",
       "        vertical-align: middle;\n",
       "    }\n",
       "\n",
       "    .dataframe tbody tr th {\n",
       "        vertical-align: top;\n",
       "    }\n",
       "\n",
       "    .dataframe thead th {\n",
       "        text-align: right;\n",
       "    }\n",
       "</style>\n",
       "<table border=\"1\" class=\"dataframe\">\n",
       "  <thead>\n",
       "    <tr style=\"text-align: right;\">\n",
       "      <th></th>\n",
       "      <th>Year</th>\n",
       "      <th>DengueCases</th>\n",
       "      <th>MalariaIncidence</th>\n",
       "      <th>TempAnomaly</th>\n",
       "      <th>Humidity</th>\n",
       "      <th>Precipitation</th>\n",
       "    </tr>\n",
       "  </thead>\n",
       "  <tbody>\n",
       "    <tr>\n",
       "      <th>count</th>\n",
       "      <td>24.000000</td>\n",
       "      <td>24.000000</td>\n",
       "      <td>24.000000</td>\n",
       "      <td>21.000000</td>\n",
       "      <td>24.000000</td>\n",
       "      <td>24.000000</td>\n",
       "    </tr>\n",
       "    <tr>\n",
       "      <th>mean</th>\n",
       "      <td>2011.500000</td>\n",
       "      <td>70221.125000</td>\n",
       "      <td>11.998337</td>\n",
       "      <td>0.607798</td>\n",
       "      <td>60.902500</td>\n",
       "      <td>1128.032500</td>\n",
       "    </tr>\n",
       "    <tr>\n",
       "      <th>std</th>\n",
       "      <td>7.071068</td>\n",
       "      <td>84320.358988</td>\n",
       "      <td>7.388593</td>\n",
       "      <td>0.243038</td>\n",
       "      <td>0.166453</td>\n",
       "      <td>91.244665</td>\n",
       "    </tr>\n",
       "    <tr>\n",
       "      <th>min</th>\n",
       "      <td>2000.000000</td>\n",
       "      <td>650.000000</td>\n",
       "      <td>1.516313</td>\n",
       "      <td>0.313417</td>\n",
       "      <td>60.510000</td>\n",
       "      <td>929.220000</td>\n",
       "    </tr>\n",
       "    <tr>\n",
       "      <th>25%</th>\n",
       "      <td>2005.750000</td>\n",
       "      <td>12234.000000</td>\n",
       "      <td>4.657076</td>\n",
       "      <td>0.430417</td>\n",
       "      <td>60.805000</td>\n",
       "      <td>1060.917500</td>\n",
       "    </tr>\n",
       "    <tr>\n",
       "      <th>50%</th>\n",
       "      <td>2011.500000</td>\n",
       "      <td>28612.500000</td>\n",
       "      <td>13.234068</td>\n",
       "      <td>0.516083</td>\n",
       "      <td>60.875000</td>\n",
       "      <td>1127.125000</td>\n",
       "    </tr>\n",
       "    <tr>\n",
       "      <th>75%</th>\n",
       "      <td>2017.250000</td>\n",
       "      <td>108185.500000</td>\n",
       "      <td>18.181448</td>\n",
       "      <td>0.770250</td>\n",
       "      <td>61.040000</td>\n",
       "      <td>1185.402500</td>\n",
       "    </tr>\n",
       "    <tr>\n",
       "      <th>max</th>\n",
       "      <td>2023.000000</td>\n",
       "      <td>289235.000000</td>\n",
       "      <td>22.480590</td>\n",
       "      <td>1.060750</td>\n",
       "      <td>61.200000</td>\n",
       "      <td>1301.330000</td>\n",
       "    </tr>\n",
       "  </tbody>\n",
       "</table>\n",
       "</div>"
      ],
      "text/plain": [
       "              Year    DengueCases  MalariaIncidence  TempAnomaly   Humidity  \\\n",
       "count    24.000000      24.000000         24.000000    21.000000  24.000000   \n",
       "mean   2011.500000   70221.125000         11.998337     0.607798  60.902500   \n",
       "std       7.071068   84320.358988          7.388593     0.243038   0.166453   \n",
       "min    2000.000000     650.000000          1.516313     0.313417  60.510000   \n",
       "25%    2005.750000   12234.000000          4.657076     0.430417  60.805000   \n",
       "50%    2011.500000   28612.500000         13.234068     0.516083  60.875000   \n",
       "75%    2017.250000  108185.500000         18.181448     0.770250  61.040000   \n",
       "max    2023.000000  289235.000000         22.480590     1.060750  61.200000   \n",
       "\n",
       "       Precipitation  \n",
       "count      24.000000  \n",
       "mean     1128.032500  \n",
       "std        91.244665  \n",
       "min       929.220000  \n",
       "25%      1060.917500  \n",
       "50%      1127.125000  \n",
       "75%      1185.402500  \n",
       "max      1301.330000  "
      ]
     },
     "metadata": {},
     "output_type": "display_data"
    }
   ],
   "source": [
    "# Descriptive statistics\n",
    "print(\"\\nDescriptive Statistics:\")\n",
    "display(df.describe())"
   ]
  },
  {
   "cell_type": "code",
   "execution_count": null,
   "id": "81f99421",
   "metadata": {},
   "outputs": [
    {
     "name": "stdout",
     "output_type": "stream",
     "text": [
      "\n",
      "Missing Values per Column:\n",
      "Year                0\n",
      "DengueCases         0\n",
      "MalariaIncidence    0\n",
      "TempAnomaly         3\n",
      "Humidity            0\n",
      "Precipitation       0\n",
      "dtype: int64\n"
     ]
    }
   ],
   "source": [
    "# Missing values check\n",
    "print(\"\\nMissing Values per Column:\")\n",
    "print(df.isnull().sum())"
   ]
  }
 ],
 "metadata": {
  "kernelspec": {
   "display_name": "Python 3",
   "language": "python",
   "name": "python3"
  },
  "language_info": {
   "codemirror_mode": {
    "name": "ipython",
    "version": 3
   },
   "file_extension": ".py",
   "mimetype": "text/x-python",
   "name": "python",
   "nbconvert_exporter": "python",
   "pygments_lexer": "ipython3",
   "version": "3.13.0"
  }
 },
 "nbformat": 4,
 "nbformat_minor": 5
}
